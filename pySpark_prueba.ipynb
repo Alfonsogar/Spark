{
 "cells": [
  {
   "cell_type": "code",
   "execution_count": 1,
   "metadata": {},
   "outputs": [
    {
     "data": {
      "text/html": [
       "\n",
       "        <div>\n",
       "            <p><b>SparkContext</b></p>\n",
       "\n",
       "            <p><a href=\"http://ip-172-31-39-187.eu-west-1.compute.internal:4042\">Spark UI</a></p>\n",
       "\n",
       "            <dl>\n",
       "              <dt>Version</dt>\n",
       "                <dd><code>v2.2.0</code></dd>\n",
       "              <dt>Master</dt>\n",
       "                <dd><code>yarn</code></dd>\n",
       "              <dt>AppName</dt>\n",
       "                <dd><code>notebook</code></dd>\n",
       "            </dl>\n",
       "        </div>\n",
       "        "
      ],
      "text/plain": [
       "<SparkContext master=yarn appName=notebook>"
      ]
     },
     "execution_count": 1,
     "metadata": {},
     "output_type": "execute_result"
    }
   ],
   "source": [
    "sc"
   ]
  },
  {
   "cell_type": "code",
   "execution_count": 2,
   "metadata": {
    "collapsed": true
   },
   "outputs": [],
   "source": [
    "from pyspark.sql import SparkSession"
   ]
  },
  {
   "cell_type": "code",
   "execution_count": 3,
   "metadata": {
    "collapsed": true
   },
   "outputs": [],
   "source": [
    "spark = SparkSession.builder.master('master').appName('cacharreo').getOrCreate()"
   ]
  },
  {
   "cell_type": "code",
   "execution_count": 4,
   "metadata": {},
   "outputs": [
    {
     "data": {
      "text/html": [
       "\n",
       "            <div>\n",
       "                <p><b>SparkSession - hive</b></p>\n",
       "                \n",
       "        <div>\n",
       "            <p><b>SparkContext</b></p>\n",
       "\n",
       "            <p><a href=\"http://ip-172-31-39-187.eu-west-1.compute.internal:4042\">Spark UI</a></p>\n",
       "\n",
       "            <dl>\n",
       "              <dt>Version</dt>\n",
       "                <dd><code>v2.2.0</code></dd>\n",
       "              <dt>Master</dt>\n",
       "                <dd><code>yarn</code></dd>\n",
       "              <dt>AppName</dt>\n",
       "                <dd><code>notebook</code></dd>\n",
       "            </dl>\n",
       "        </div>\n",
       "        \n",
       "            </div>\n",
       "        "
      ],
      "text/plain": [
       "<pyspark.sql.session.SparkSession at 0x7f2f28cae470>"
      ]
     },
     "execution_count": 4,
     "metadata": {},
     "output_type": "execute_result"
    }
   ],
   "source": [
    "spark"
   ]
  },
  {
   "cell_type": "code",
   "execution_count": 5,
   "metadata": {},
   "outputs": [
    {
     "name": "stderr",
     "output_type": "stream",
     "text": [
      "/data/conda/envs/python36/lib/python3.6/importlib/_bootstrap.py:219: RuntimeWarning: numpy.dtype size changed, may indicate binary incompatibility. Expected 96, got 88\n",
      "  return f(*args, **kwds)\n"
     ]
    }
   ],
   "source": [
    "import pandas as pd"
   ]
  },
  {
   "cell_type": "code",
   "execution_count": 9,
   "metadata": {},
   "outputs": [
    {
     "name": "stdout",
     "output_type": "stream",
     "text": [
      "agarcia@34.253.229.77\r\n",
      "alcances-base-cartografica-censo2017.pdf\r\n",
      "alfonso@34.253.229.77\r\n",
      "CENSO2017_ManzanaEntidad_CSV_Censo2017_Manzanas.csv\r\n",
      "Censo2017_ManzanaEntidad_CSV_LEAME.docx\r\n",
      "ETL_censo.ipynb\r\n",
      "georeferencia\r\n",
      "Microdato_Censo2017-Areas.csv\r\n",
      "Microdato_Censo2017-Comunas.csv\r\n",
      "Microdato_Censo2017-Provincias.csv\r\n",
      "Microdato_Censo2017-Regiones.csv\r\n",
      "No_usados\r\n",
      "Output_censo.csv\r\n",
      "Part2.ipynb\r\n",
      "Variables.pdf\r\n"
     ]
    }
   ],
   "source": [
    "!ls ./ident_geografica"
   ]
  },
  {
   "cell_type": "code",
   "execution_count": 14,
   "metadata": {},
   "outputs": [
    {
     "data": {
      "text/html": [
       "<div>\n",
       "<style scoped>\n",
       "    .dataframe tbody tr th:only-of-type {\n",
       "        vertical-align: middle;\n",
       "    }\n",
       "\n",
       "    .dataframe tbody tr th {\n",
       "        vertical-align: top;\n",
       "    }\n",
       "\n",
       "    .dataframe thead th {\n",
       "        text-align: right;\n",
       "    }\n",
       "</style>\n",
       "<table border=\"1\" class=\"dataframe\">\n",
       "  <thead>\n",
       "    <tr style=\"text-align: right;\">\n",
       "      <th></th>\n",
       "      <th>AREA</th>\n",
       "      <th>DC</th>\n",
       "      <th>ZONA_LOCALIDAD</th>\n",
       "      <th>MANZANA_ENTIDAD</th>\n",
       "      <th>ID_ZONA_LOCALIDAD</th>\n",
       "      <th>ID_MANZANA_ENTIDAD</th>\n",
       "      <th>PERSONAS_CENSADAS</th>\n",
       "      <th>HOMBRES</th>\n",
       "      <th>MUJERES</th>\n",
       "      <th>EDAD_0A5</th>\n",
       "      <th>...</th>\n",
       "      <th>INMIGRANTES</th>\n",
       "      <th>PUEBLO_INDIGENA</th>\n",
       "      <th>VIVIENDA_PARTICULAR</th>\n",
       "      <th>VIVIENDA_COLECTIVA</th>\n",
       "      <th>VPOMP</th>\n",
       "      <th>TOTAL_VIVIENDAS</th>\n",
       "      <th>NOMBRE_REGION</th>\n",
       "      <th>NOM_PROVINCIA</th>\n",
       "      <th>NOM_COMUNA</th>\n",
       "      <th>NOM_AREA</th>\n",
       "    </tr>\n",
       "  </thead>\n",
       "  <tbody>\n",
       "    <tr>\n",
       "      <th>0</th>\n",
       "      <td>1</td>\n",
       "      <td>1</td>\n",
       "      <td>1</td>\n",
       "      <td>1</td>\n",
       "      <td>7849</td>\n",
       "      <td>1101011001001</td>\n",
       "      <td>15</td>\n",
       "      <td>NaN</td>\n",
       "      <td>NaN</td>\n",
       "      <td>0.0</td>\n",
       "      <td>...</td>\n",
       "      <td>0.0</td>\n",
       "      <td>0.0</td>\n",
       "      <td>1</td>\n",
       "      <td>2</td>\n",
       "      <td>0</td>\n",
       "      <td>3</td>\n",
       "      <td>TARAPACÁ</td>\n",
       "      <td>IQUIQUE</td>\n",
       "      <td>IQUIQUE</td>\n",
       "      <td>URBANO</td>\n",
       "    </tr>\n",
       "    <tr>\n",
       "      <th>1</th>\n",
       "      <td>1</td>\n",
       "      <td>1</td>\n",
       "      <td>1</td>\n",
       "      <td>10</td>\n",
       "      <td>7849</td>\n",
       "      <td>1101011001010</td>\n",
       "      <td>70</td>\n",
       "      <td>38.0</td>\n",
       "      <td>32.0</td>\n",
       "      <td>NaN</td>\n",
       "      <td>...</td>\n",
       "      <td>12.0</td>\n",
       "      <td>13.0</td>\n",
       "      <td>17</td>\n",
       "      <td>1</td>\n",
       "      <td>15</td>\n",
       "      <td>18</td>\n",
       "      <td>TARAPACÁ</td>\n",
       "      <td>IQUIQUE</td>\n",
       "      <td>IQUIQUE</td>\n",
       "      <td>URBANO</td>\n",
       "    </tr>\n",
       "    <tr>\n",
       "      <th>2</th>\n",
       "      <td>1</td>\n",
       "      <td>1</td>\n",
       "      <td>1</td>\n",
       "      <td>11</td>\n",
       "      <td>7849</td>\n",
       "      <td>1101011001011</td>\n",
       "      <td>36</td>\n",
       "      <td>21.0</td>\n",
       "      <td>15.0</td>\n",
       "      <td>NaN</td>\n",
       "      <td>...</td>\n",
       "      <td>11.0</td>\n",
       "      <td>7.0</td>\n",
       "      <td>15</td>\n",
       "      <td>1</td>\n",
       "      <td>15</td>\n",
       "      <td>16</td>\n",
       "      <td>TARAPACÁ</td>\n",
       "      <td>IQUIQUE</td>\n",
       "      <td>IQUIQUE</td>\n",
       "      <td>URBANO</td>\n",
       "    </tr>\n",
       "    <tr>\n",
       "      <th>3</th>\n",
       "      <td>1</td>\n",
       "      <td>1</td>\n",
       "      <td>1</td>\n",
       "      <td>12</td>\n",
       "      <td>7849</td>\n",
       "      <td>1101011001012</td>\n",
       "      <td>65</td>\n",
       "      <td>34.0</td>\n",
       "      <td>31.0</td>\n",
       "      <td>NaN</td>\n",
       "      <td>...</td>\n",
       "      <td>27.0</td>\n",
       "      <td>4.0</td>\n",
       "      <td>24</td>\n",
       "      <td>0</td>\n",
       "      <td>24</td>\n",
       "      <td>24</td>\n",
       "      <td>TARAPACÁ</td>\n",
       "      <td>IQUIQUE</td>\n",
       "      <td>IQUIQUE</td>\n",
       "      <td>URBANO</td>\n",
       "    </tr>\n",
       "    <tr>\n",
       "      <th>4</th>\n",
       "      <td>1</td>\n",
       "      <td>1</td>\n",
       "      <td>1</td>\n",
       "      <td>13</td>\n",
       "      <td>7849</td>\n",
       "      <td>1101011001013</td>\n",
       "      <td>39</td>\n",
       "      <td>12.0</td>\n",
       "      <td>27.0</td>\n",
       "      <td>NaN</td>\n",
       "      <td>...</td>\n",
       "      <td>4.0</td>\n",
       "      <td>17.0</td>\n",
       "      <td>11</td>\n",
       "      <td>2</td>\n",
       "      <td>9</td>\n",
       "      <td>13</td>\n",
       "      <td>TARAPACÁ</td>\n",
       "      <td>IQUIQUE</td>\n",
       "      <td>IQUIQUE</td>\n",
       "      <td>URBANO</td>\n",
       "    </tr>\n",
       "  </tbody>\n",
       "</table>\n",
       "<p>5 rows × 23 columns</p>\n",
       "</div>"
      ],
      "text/plain": [
       "   AREA  DC  ZONA_LOCALIDAD  MANZANA_ENTIDAD  ID_ZONA_LOCALIDAD  \\\n",
       "0     1   1               1                1               7849   \n",
       "1     1   1               1               10               7849   \n",
       "2     1   1               1               11               7849   \n",
       "3     1   1               1               12               7849   \n",
       "4     1   1               1               13               7849   \n",
       "\n",
       "   ID_MANZANA_ENTIDAD  PERSONAS_CENSADAS  HOMBRES  MUJERES  EDAD_0A5   ...     \\\n",
       "0       1101011001001                 15      NaN      NaN       0.0   ...      \n",
       "1       1101011001010                 70     38.0     32.0       NaN   ...      \n",
       "2       1101011001011                 36     21.0     15.0       NaN   ...      \n",
       "3       1101011001012                 65     34.0     31.0       NaN   ...      \n",
       "4       1101011001013                 39     12.0     27.0       NaN   ...      \n",
       "\n",
       "   INMIGRANTES  PUEBLO_INDIGENA  VIVIENDA_PARTICULAR  VIVIENDA_COLECTIVA  \\\n",
       "0          0.0              0.0                    1                   2   \n",
       "1         12.0             13.0                   17                   1   \n",
       "2         11.0              7.0                   15                   1   \n",
       "3         27.0              4.0                   24                   0   \n",
       "4          4.0             17.0                   11                   2   \n",
       "\n",
       "   VPOMP  TOTAL_VIVIENDAS  NOMBRE_REGION  NOM_PROVINCIA  NOM_COMUNA NOM_AREA  \n",
       "0      0                3       TARAPACÁ        IQUIQUE     IQUIQUE   URBANO  \n",
       "1     15               18       TARAPACÁ        IQUIQUE     IQUIQUE   URBANO  \n",
       "2     15               16       TARAPACÁ        IQUIQUE     IQUIQUE   URBANO  \n",
       "3     24               24       TARAPACÁ        IQUIQUE     IQUIQUE   URBANO  \n",
       "4      9               13       TARAPACÁ        IQUIQUE     IQUIQUE   URBANO  \n",
       "\n",
       "[5 rows x 23 columns]"
      ]
     },
     "execution_count": 14,
     "metadata": {},
     "output_type": "execute_result"
    }
   ],
   "source": [
    "data = pd.read_table('./ident_geografica/Output_censo.csv', sep=',')\n",
    "data.head()"
   ]
  },
  {
   "cell_type": "code",
   "execution_count": 15,
   "metadata": {
    "collapsed": true
   },
   "outputs": [],
   "source": [
    "df = spark.createDataFrame(data)"
   ]
  },
  {
   "cell_type": "code",
   "execution_count": 16,
   "metadata": {},
   "outputs": [
    {
     "name": "stdout",
     "output_type": "stream",
     "text": [
      "root\n",
      " |-- AREA: long (nullable = true)\n",
      " |-- DC: long (nullable = true)\n",
      " |-- ZONA_LOCALIDAD: long (nullable = true)\n",
      " |-- MANZANA_ENTIDAD: long (nullable = true)\n",
      " |-- ID_ZONA_LOCALIDAD: long (nullable = true)\n",
      " |-- ID_MANZANA_ENTIDAD: long (nullable = true)\n",
      " |-- PERSONAS_CENSADAS: long (nullable = true)\n",
      " |-- HOMBRES: double (nullable = true)\n",
      " |-- MUJERES: double (nullable = true)\n",
      " |-- EDAD_0A5: double (nullable = true)\n",
      " |-- EDAD_6A14: double (nullable = true)\n",
      " |-- EDAD_15A64: double (nullable = true)\n",
      " |-- EDAD_65YMAS: double (nullable = true)\n",
      " |-- INMIGRANTES: double (nullable = true)\n",
      " |-- PUEBLO_INDIGENA: double (nullable = true)\n",
      " |-- VIVIENDA_PARTICULAR: long (nullable = true)\n",
      " |-- VIVIENDA_COLECTIVA: long (nullable = true)\n",
      " |-- VPOMP: long (nullable = true)\n",
      " |-- TOTAL_VIVIENDAS: long (nullable = true)\n",
      " |-- NOMBRE_REGION: string (nullable = true)\n",
      " |-- NOM_PROVINCIA: string (nullable = true)\n",
      " |-- NOM_COMUNA: string (nullable = true)\n",
      " |-- NOM_AREA: string (nullable = true)\n",
      "\n"
     ]
    }
   ],
   "source": [
    "df.printSchema()"
   ]
  },
  {
   "cell_type": "code",
   "execution_count": 11,
   "metadata": {},
   "outputs": [
    {
     "data": {
      "text/plain": [
       "Row(PROVINCIA=11, NOM_PROVINCIA='IQUIQUE')"
      ]
     },
     "execution_count": 11,
     "metadata": {},
     "output_type": "execute_result"
    }
   ],
   "source": [
    "df.first()"
   ]
  },
  {
   "cell_type": "code",
   "execution_count": 12,
   "metadata": {},
   "outputs": [
    {
     "data": {
      "text/plain": [
       "[Row(PROVINCIA=11, NOM_PROVINCIA='IQUIQUE'),\n",
       " Row(PROVINCIA=14, NOM_PROVINCIA='TAMARUGAL'),\n",
       " Row(PROVINCIA=21, NOM_PROVINCIA='ANTOFAGASTA'),\n",
       " Row(PROVINCIA=22, NOM_PROVINCIA='EL LOA'),\n",
       " Row(PROVINCIA=23, NOM_PROVINCIA='TOCOPILLA')]"
      ]
     },
     "execution_count": 12,
     "metadata": {},
     "output_type": "execute_result"
    }
   ],
   "source": [
    "df.head(5)"
   ]
  },
  {
   "cell_type": "code",
   "execution_count": 17,
   "metadata": {},
   "outputs": [
    {
     "name": "stdout",
     "output_type": "stream",
     "text": [
      "+----+---+--------------+---------------+-----------------+------------------+-----------------+-------+-------+--------+---------+----------+-----------+-----------+---------------+-------------------+------------------+-----+---------------+-------------+-------------+----------+--------+\n",
      "|AREA| DC|ZONA_LOCALIDAD|MANZANA_ENTIDAD|ID_ZONA_LOCALIDAD|ID_MANZANA_ENTIDAD|PERSONAS_CENSADAS|HOMBRES|MUJERES|EDAD_0A5|EDAD_6A14|EDAD_15A64|EDAD_65YMAS|INMIGRANTES|PUEBLO_INDIGENA|VIVIENDA_PARTICULAR|VIVIENDA_COLECTIVA|VPOMP|TOTAL_VIVIENDAS|NOMBRE_REGION|NOM_PROVINCIA|NOM_COMUNA|NOM_AREA|\n",
      "+----+---+--------------+---------------+-----------------+------------------+-----------------+-------+-------+--------+---------+----------+-----------+-----------+---------------+-------------------+------------------+-----+---------------+-------------+-------------+----------+--------+\n",
      "|   1|  1|             1|              1|             7849|     1101011001001|               15|    NaN|    NaN|     0.0|      0.0|      15.0|        0.0|        0.0|            0.0|                  1|                 2|    0|              3|     TARAPACÁ|      IQUIQUE|   IQUIQUE|  URBANO|\n",
      "|   1|  1|             1|             10|             7849|     1101011001010|               70|   38.0|   32.0|     NaN|      NaN|      54.0|       10.0|       12.0|           13.0|                 17|                 1|   15|             18|     TARAPACÁ|      IQUIQUE|   IQUIQUE|  URBANO|\n",
      "+----+---+--------------+---------------+-----------------+------------------+-----------------+-------+-------+--------+---------+----------+-----------+-----------+---------------+-------------------+------------------+-----+---------------+-------------+-------------+----------+--------+\n",
      "only showing top 2 rows\n",
      "\n"
     ]
    }
   ],
   "source": [
    "# Watch it\n",
    "\n",
    "df.show(2, truncate=True)"
   ]
  },
  {
   "cell_type": "code",
   "execution_count": 48,
   "metadata": {},
   "outputs": [
    {
     "data": {
      "text/html": [
       "<div>\n",
       "<style scoped>\n",
       "    .dataframe tbody tr th:only-of-type {\n",
       "        vertical-align: middle;\n",
       "    }\n",
       "\n",
       "    .dataframe tbody tr th {\n",
       "        vertical-align: top;\n",
       "    }\n",
       "\n",
       "    .dataframe thead th {\n",
       "        text-align: right;\n",
       "    }\n",
       "</style>\n",
       "<table border=\"1\" class=\"dataframe\">\n",
       "  <thead>\n",
       "    <tr style=\"text-align: right;\">\n",
       "      <th></th>\n",
       "      <th>AREA</th>\n",
       "      <th>DC</th>\n",
       "      <th>ZONA_LOCALIDAD</th>\n",
       "      <th>MANZANA_ENTIDAD</th>\n",
       "      <th>ID_ZONA_LOCALIDAD</th>\n",
       "      <th>ID_MANZANA_ENTIDAD</th>\n",
       "      <th>PERSONAS_CENSADAS</th>\n",
       "      <th>HOMBRES</th>\n",
       "      <th>MUJERES</th>\n",
       "      <th>EDAD_0A5</th>\n",
       "      <th>...</th>\n",
       "      <th>INMIGRANTES</th>\n",
       "      <th>PUEBLO_INDIGENA</th>\n",
       "      <th>VIVIENDA_PARTICULAR</th>\n",
       "      <th>VIVIENDA_COLECTIVA</th>\n",
       "      <th>VPOMP</th>\n",
       "      <th>TOTAL_VIVIENDAS</th>\n",
       "      <th>NOMBRE_REGION</th>\n",
       "      <th>NOM_PROVINCIA</th>\n",
       "      <th>NOM_COMUNA</th>\n",
       "      <th>NOM_AREA</th>\n",
       "    </tr>\n",
       "  </thead>\n",
       "  <tbody>\n",
       "    <tr>\n",
       "      <th>0</th>\n",
       "      <td>1</td>\n",
       "      <td>1</td>\n",
       "      <td>1</td>\n",
       "      <td>1</td>\n",
       "      <td>7849</td>\n",
       "      <td>1101011001001</td>\n",
       "      <td>15</td>\n",
       "      <td>NaN</td>\n",
       "      <td>NaN</td>\n",
       "      <td>0.0</td>\n",
       "      <td>...</td>\n",
       "      <td>0.0</td>\n",
       "      <td>0.0</td>\n",
       "      <td>1</td>\n",
       "      <td>2</td>\n",
       "      <td>0</td>\n",
       "      <td>3</td>\n",
       "      <td>TARAPACÁ</td>\n",
       "      <td>IQUIQUE</td>\n",
       "      <td>IQUIQUE</td>\n",
       "      <td>URBANO</td>\n",
       "    </tr>\n",
       "    <tr>\n",
       "      <th>1</th>\n",
       "      <td>1</td>\n",
       "      <td>1</td>\n",
       "      <td>1</td>\n",
       "      <td>10</td>\n",
       "      <td>7849</td>\n",
       "      <td>1101011001010</td>\n",
       "      <td>70</td>\n",
       "      <td>38.0</td>\n",
       "      <td>32.0</td>\n",
       "      <td>NaN</td>\n",
       "      <td>...</td>\n",
       "      <td>12.0</td>\n",
       "      <td>13.0</td>\n",
       "      <td>17</td>\n",
       "      <td>1</td>\n",
       "      <td>15</td>\n",
       "      <td>18</td>\n",
       "      <td>TARAPACÁ</td>\n",
       "      <td>IQUIQUE</td>\n",
       "      <td>IQUIQUE</td>\n",
       "      <td>URBANO</td>\n",
       "    </tr>\n",
       "    <tr>\n",
       "      <th>2</th>\n",
       "      <td>1</td>\n",
       "      <td>1</td>\n",
       "      <td>1</td>\n",
       "      <td>11</td>\n",
       "      <td>7849</td>\n",
       "      <td>1101011001011</td>\n",
       "      <td>36</td>\n",
       "      <td>21.0</td>\n",
       "      <td>15.0</td>\n",
       "      <td>NaN</td>\n",
       "      <td>...</td>\n",
       "      <td>11.0</td>\n",
       "      <td>7.0</td>\n",
       "      <td>15</td>\n",
       "      <td>1</td>\n",
       "      <td>15</td>\n",
       "      <td>16</td>\n",
       "      <td>TARAPACÁ</td>\n",
       "      <td>IQUIQUE</td>\n",
       "      <td>IQUIQUE</td>\n",
       "      <td>URBANO</td>\n",
       "    </tr>\n",
       "    <tr>\n",
       "      <th>3</th>\n",
       "      <td>1</td>\n",
       "      <td>1</td>\n",
       "      <td>1</td>\n",
       "      <td>12</td>\n",
       "      <td>7849</td>\n",
       "      <td>1101011001012</td>\n",
       "      <td>65</td>\n",
       "      <td>34.0</td>\n",
       "      <td>31.0</td>\n",
       "      <td>NaN</td>\n",
       "      <td>...</td>\n",
       "      <td>27.0</td>\n",
       "      <td>4.0</td>\n",
       "      <td>24</td>\n",
       "      <td>0</td>\n",
       "      <td>24</td>\n",
       "      <td>24</td>\n",
       "      <td>TARAPACÁ</td>\n",
       "      <td>IQUIQUE</td>\n",
       "      <td>IQUIQUE</td>\n",
       "      <td>URBANO</td>\n",
       "    </tr>\n",
       "    <tr>\n",
       "      <th>4</th>\n",
       "      <td>1</td>\n",
       "      <td>1</td>\n",
       "      <td>1</td>\n",
       "      <td>13</td>\n",
       "      <td>7849</td>\n",
       "      <td>1101011001013</td>\n",
       "      <td>39</td>\n",
       "      <td>12.0</td>\n",
       "      <td>27.0</td>\n",
       "      <td>NaN</td>\n",
       "      <td>...</td>\n",
       "      <td>4.0</td>\n",
       "      <td>17.0</td>\n",
       "      <td>11</td>\n",
       "      <td>2</td>\n",
       "      <td>9</td>\n",
       "      <td>13</td>\n",
       "      <td>TARAPACÁ</td>\n",
       "      <td>IQUIQUE</td>\n",
       "      <td>IQUIQUE</td>\n",
       "      <td>URBANO</td>\n",
       "    </tr>\n",
       "  </tbody>\n",
       "</table>\n",
       "<p>5 rows × 23 columns</p>\n",
       "</div>"
      ],
      "text/plain": [
       "   AREA  DC  ZONA_LOCALIDAD  MANZANA_ENTIDAD  ID_ZONA_LOCALIDAD  \\\n",
       "0     1   1               1                1               7849   \n",
       "1     1   1               1               10               7849   \n",
       "2     1   1               1               11               7849   \n",
       "3     1   1               1               12               7849   \n",
       "4     1   1               1               13               7849   \n",
       "\n",
       "   ID_MANZANA_ENTIDAD  PERSONAS_CENSADAS  HOMBRES  MUJERES  EDAD_0A5   ...     \\\n",
       "0       1101011001001                 15      NaN      NaN       0.0   ...      \n",
       "1       1101011001010                 70     38.0     32.0       NaN   ...      \n",
       "2       1101011001011                 36     21.0     15.0       NaN   ...      \n",
       "3       1101011001012                 65     34.0     31.0       NaN   ...      \n",
       "4       1101011001013                 39     12.0     27.0       NaN   ...      \n",
       "\n",
       "   INMIGRANTES  PUEBLO_INDIGENA  VIVIENDA_PARTICULAR  VIVIENDA_COLECTIVA  \\\n",
       "0          0.0              0.0                    1                   2   \n",
       "1         12.0             13.0                   17                   1   \n",
       "2         11.0              7.0                   15                   1   \n",
       "3         27.0              4.0                   24                   0   \n",
       "4          4.0             17.0                   11                   2   \n",
       "\n",
       "   VPOMP  TOTAL_VIVIENDAS  NOMBRE_REGION  NOM_PROVINCIA  NOM_COMUNA NOM_AREA  \n",
       "0      0                3       TARAPACÁ        IQUIQUE     IQUIQUE   URBANO  \n",
       "1     15               18       TARAPACÁ        IQUIQUE     IQUIQUE   URBANO  \n",
       "2     15               16       TARAPACÁ        IQUIQUE     IQUIQUE   URBANO  \n",
       "3     24               24       TARAPACÁ        IQUIQUE     IQUIQUE   URBANO  \n",
       "4      9               13       TARAPACÁ        IQUIQUE     IQUIQUE   URBANO  \n",
       "\n",
       "[5 rows x 23 columns]"
      ]
     },
     "execution_count": 48,
     "metadata": {},
     "output_type": "execute_result"
    }
   ],
   "source": [
    "#Let's do it prettier:\n",
    "df.toPandas().head()"
   ]
  },
  {
   "cell_type": "code",
   "execution_count": 18,
   "metadata": {},
   "outputs": [
    {
     "data": {
      "text/plain": [
       "180499"
      ]
     },
     "execution_count": 18,
     "metadata": {},
     "output_type": "execute_result"
    }
   ],
   "source": [
    "df.count()"
   ]
  },
  {
   "cell_type": "code",
   "execution_count": 19,
   "metadata": {},
   "outputs": [
    {
     "data": {
      "text/plain": [
       "['AREA',\n",
       " 'DC',\n",
       " 'ZONA_LOCALIDAD',\n",
       " 'MANZANA_ENTIDAD',\n",
       " 'ID_ZONA_LOCALIDAD',\n",
       " 'ID_MANZANA_ENTIDAD',\n",
       " 'PERSONAS_CENSADAS',\n",
       " 'HOMBRES',\n",
       " 'MUJERES',\n",
       " 'EDAD_0A5',\n",
       " 'EDAD_6A14',\n",
       " 'EDAD_15A64',\n",
       " 'EDAD_65YMAS',\n",
       " 'INMIGRANTES',\n",
       " 'PUEBLO_INDIGENA',\n",
       " 'VIVIENDA_PARTICULAR',\n",
       " 'VIVIENDA_COLECTIVA',\n",
       " 'VPOMP',\n",
       " 'TOTAL_VIVIENDAS',\n",
       " 'NOMBRE_REGION',\n",
       " 'NOM_PROVINCIA',\n",
       " 'NOM_COMUNA',\n",
       " 'NOM_AREA']"
      ]
     },
     "execution_count": 19,
     "metadata": {},
     "output_type": "execute_result"
    }
   ],
   "source": [
    "df.columns"
   ]
  },
  {
   "cell_type": "markdown",
   "metadata": {},
   "source": [
    "### Show statistics:"
   ]
  },
  {
   "cell_type": "code",
   "execution_count": 39,
   "metadata": {},
   "outputs": [
    {
     "data": {
      "text/html": [
       "<div>\n",
       "<style scoped>\n",
       "    .dataframe tbody tr th:only-of-type {\n",
       "        vertical-align: middle;\n",
       "    }\n",
       "\n",
       "    .dataframe tbody tr th {\n",
       "        vertical-align: top;\n",
       "    }\n",
       "\n",
       "    .dataframe thead th {\n",
       "        text-align: right;\n",
       "    }\n",
       "</style>\n",
       "<table border=\"1\" class=\"dataframe\">\n",
       "  <thead>\n",
       "    <tr style=\"text-align: right;\">\n",
       "      <th></th>\n",
       "      <th>summary</th>\n",
       "      <th>AREA</th>\n",
       "      <th>DC</th>\n",
       "      <th>ZONA_LOCALIDAD</th>\n",
       "      <th>MANZANA_ENTIDAD</th>\n",
       "      <th>ID_ZONA_LOCALIDAD</th>\n",
       "      <th>ID_MANZANA_ENTIDAD</th>\n",
       "      <th>PERSONAS_CENSADAS</th>\n",
       "      <th>HOMBRES</th>\n",
       "      <th>MUJERES</th>\n",
       "      <th>...</th>\n",
       "      <th>INMIGRANTES</th>\n",
       "      <th>PUEBLO_INDIGENA</th>\n",
       "      <th>VIVIENDA_PARTICULAR</th>\n",
       "      <th>VIVIENDA_COLECTIVA</th>\n",
       "      <th>VPOMP</th>\n",
       "      <th>TOTAL_VIVIENDAS</th>\n",
       "      <th>NOMBRE_REGION</th>\n",
       "      <th>NOM_PROVINCIA</th>\n",
       "      <th>NOM_COMUNA</th>\n",
       "      <th>NOM_AREA</th>\n",
       "    </tr>\n",
       "  </thead>\n",
       "  <tbody>\n",
       "    <tr>\n",
       "      <th>0</th>\n",
       "      <td>count</td>\n",
       "      <td>180499</td>\n",
       "      <td>180499</td>\n",
       "      <td>180499</td>\n",
       "      <td>180499</td>\n",
       "      <td>180499</td>\n",
       "      <td>180499</td>\n",
       "      <td>180499</td>\n",
       "      <td>180499</td>\n",
       "      <td>180499</td>\n",
       "      <td>...</td>\n",
       "      <td>180499</td>\n",
       "      <td>180499</td>\n",
       "      <td>180499</td>\n",
       "      <td>180499</td>\n",
       "      <td>180499</td>\n",
       "      <td>180499</td>\n",
       "      <td>180499</td>\n",
       "      <td>180499</td>\n",
       "      <td>180499</td>\n",
       "      <td>180499</td>\n",
       "    </tr>\n",
       "    <tr>\n",
       "      <th>1</th>\n",
       "      <td>mean</td>\n",
       "      <td>1.1583776087402147</td>\n",
       "      <td>6.552124942520457</td>\n",
       "      <td>11.981224272710651</td>\n",
       "      <td>86.03740740945933</td>\n",
       "      <td>8000.7834891052025</td>\n",
       "      <td>8.989596262495127E12</td>\n",
       "      <td>97.36343691654801</td>\n",
       "      <td>NaN</td>\n",
       "      <td>NaN</td>\n",
       "      <td>...</td>\n",
       "      <td>NaN</td>\n",
       "      <td>NaN</td>\n",
       "      <td>35.936670009252126</td>\n",
       "      <td>0.07103640463382069</td>\n",
       "      <td>30.51784774430883</td>\n",
       "      <td>36.00770641388595</td>\n",
       "      <td>None</td>\n",
       "      <td>None</td>\n",
       "      <td>None</td>\n",
       "      <td>None</td>\n",
       "    </tr>\n",
       "    <tr>\n",
       "      <th>2</th>\n",
       "      <td>stddev</td>\n",
       "      <td>0.3650957138475175</td>\n",
       "      <td>6.83759763985495</td>\n",
       "      <td>74.04409910168373</td>\n",
       "      <td>197.67750810087827</td>\n",
       "      <td>4647.858822236974</td>\n",
       "      <td>3.698845669477461E12</td>\n",
       "      <td>149.64786981144547</td>\n",
       "      <td>NaN</td>\n",
       "      <td>NaN</td>\n",
       "      <td>...</td>\n",
       "      <td>NaN</td>\n",
       "      <td>NaN</td>\n",
       "      <td>61.63186705173113</td>\n",
       "      <td>0.41683093230532087</td>\n",
       "      <td>50.22627352152711</td>\n",
       "      <td>61.67884604122962</td>\n",
       "      <td>None</td>\n",
       "      <td>None</td>\n",
       "      <td>None</td>\n",
       "      <td>None</td>\n",
       "    </tr>\n",
       "    <tr>\n",
       "      <th>3</th>\n",
       "      <td>min</td>\n",
       "      <td>1</td>\n",
       "      <td>1</td>\n",
       "      <td>1</td>\n",
       "      <td>1</td>\n",
       "      <td>1</td>\n",
       "      <td>1101011001001</td>\n",
       "      <td>0</td>\n",
       "      <td>0.0</td>\n",
       "      <td>0.0</td>\n",
       "      <td>...</td>\n",
       "      <td>0.0</td>\n",
       "      <td>0.0</td>\n",
       "      <td>0</td>\n",
       "      <td>0</td>\n",
       "      <td>0</td>\n",
       "      <td>0</td>\n",
       "      <td>ANTOFAGASTA</td>\n",
       "      <td>ANTOFAGASTA</td>\n",
       "      <td>ALGARROBO</td>\n",
       "      <td>RURAL</td>\n",
       "    </tr>\n",
       "    <tr>\n",
       "      <th>4</th>\n",
       "      <td>max</td>\n",
       "      <td>2</td>\n",
       "      <td>99</td>\n",
       "      <td>999</td>\n",
       "      <td>999</td>\n",
       "      <td>16053</td>\n",
       "      <td>15202992999999</td>\n",
       "      <td>9197</td>\n",
       "      <td>NaN</td>\n",
       "      <td>NaN</td>\n",
       "      <td>...</td>\n",
       "      <td>NaN</td>\n",
       "      <td>NaN</td>\n",
       "      <td>2573</td>\n",
       "      <td>65</td>\n",
       "      <td>2238</td>\n",
       "      <td>2575</td>\n",
       "      <td>VALPARAÍSO</td>\n",
       "      <td>ÚLTIMA ESPERANZA</td>\n",
       "      <td>ÑUÑOA</td>\n",
       "      <td>URBANO</td>\n",
       "    </tr>\n",
       "  </tbody>\n",
       "</table>\n",
       "<p>5 rows × 24 columns</p>\n",
       "</div>"
      ],
      "text/plain": [
       "  summary                AREA                 DC      ZONA_LOCALIDAD  \\\n",
       "0   count              180499             180499              180499   \n",
       "1    mean  1.1583776087402147  6.552124942520457  11.981224272710651   \n",
       "2  stddev  0.3650957138475175   6.83759763985495   74.04409910168373   \n",
       "3     min                   1                  1                   1   \n",
       "4     max                   2                 99                 999   \n",
       "\n",
       "      MANZANA_ENTIDAD   ID_ZONA_LOCALIDAD    ID_MANZANA_ENTIDAD  \\\n",
       "0              180499              180499                180499   \n",
       "1   86.03740740945933  8000.7834891052025  8.989596262495127E12   \n",
       "2  197.67750810087827   4647.858822236974  3.698845669477461E12   \n",
       "3                   1                   1         1101011001001   \n",
       "4                 999               16053        15202992999999   \n",
       "\n",
       "    PERSONAS_CENSADAS HOMBRES MUJERES   ...    INMIGRANTES PUEBLO_INDIGENA  \\\n",
       "0              180499  180499  180499   ...         180499          180499   \n",
       "1   97.36343691654801     NaN     NaN   ...            NaN             NaN   \n",
       "2  149.64786981144547     NaN     NaN   ...            NaN             NaN   \n",
       "3                   0     0.0     0.0   ...            0.0             0.0   \n",
       "4                9197     NaN     NaN   ...            NaN             NaN   \n",
       "\n",
       "  VIVIENDA_PARTICULAR   VIVIENDA_COLECTIVA              VPOMP  \\\n",
       "0              180499               180499             180499   \n",
       "1  35.936670009252126  0.07103640463382069  30.51784774430883   \n",
       "2   61.63186705173113  0.41683093230532087  50.22627352152711   \n",
       "3                   0                    0                  0   \n",
       "4                2573                   65               2238   \n",
       "\n",
       "     TOTAL_VIVIENDAS NOMBRE_REGION     NOM_PROVINCIA NOM_COMUNA NOM_AREA  \n",
       "0             180499        180499            180499     180499   180499  \n",
       "1  36.00770641388595          None              None       None     None  \n",
       "2  61.67884604122962          None              None       None     None  \n",
       "3                  0   ANTOFAGASTA       ANTOFAGASTA  ALGARROBO    RURAL  \n",
       "4               2575    VALPARAÍSO  ÚLTIMA ESPERANZA      ÑUÑOA   URBANO  \n",
       "\n",
       "[5 rows x 24 columns]"
      ]
     },
     "execution_count": 39,
     "metadata": {},
     "output_type": "execute_result"
    }
   ],
   "source": [
    "df.describe().toPandas()"
   ]
  },
  {
   "cell_type": "code",
   "execution_count": 34,
   "metadata": {},
   "outputs": [
    {
     "name": "stdout",
     "output_type": "stream",
     "text": [
      "+-------+------------------+\n",
      "|summary|          EDAD_0A5|\n",
      "+-------+------------------+\n",
      "|  count|             55671|\n",
      "|   mean|13.650320633723123|\n",
      "| stddev| 20.55632830121984|\n",
      "|    min|               0.0|\n",
      "|    max|             432.0|\n",
      "+-------+------------------+\n",
      "\n"
     ]
    }
   ],
   "source": [
    "# Statistics from a specific column:\n",
    "\n",
    "df.na.drop().describe('EDAD_0A5').show()"
   ]
  },
  {
   "cell_type": "markdown",
   "metadata": {},
   "source": [
    "### Remove NaN:"
   ]
  },
  {
   "cell_type": "code",
   "execution_count": 50,
   "metadata": {},
   "outputs": [
    {
     "data": {
      "text/html": [
       "<div>\n",
       "<style scoped>\n",
       "    .dataframe tbody tr th:only-of-type {\n",
       "        vertical-align: middle;\n",
       "    }\n",
       "\n",
       "    .dataframe tbody tr th {\n",
       "        vertical-align: top;\n",
       "    }\n",
       "\n",
       "    .dataframe thead th {\n",
       "        text-align: right;\n",
       "    }\n",
       "</style>\n",
       "<table border=\"1\" class=\"dataframe\">\n",
       "  <thead>\n",
       "    <tr style=\"text-align: right;\">\n",
       "      <th></th>\n",
       "      <th>AREA</th>\n",
       "      <th>DC</th>\n",
       "      <th>ZONA_LOCALIDAD</th>\n",
       "      <th>MANZANA_ENTIDAD</th>\n",
       "      <th>ID_ZONA_LOCALIDAD</th>\n",
       "      <th>ID_MANZANA_ENTIDAD</th>\n",
       "      <th>PERSONAS_CENSADAS</th>\n",
       "      <th>HOMBRES</th>\n",
       "      <th>MUJERES</th>\n",
       "      <th>EDAD_0A5</th>\n",
       "      <th>...</th>\n",
       "      <th>INMIGRANTES</th>\n",
       "      <th>PUEBLO_INDIGENA</th>\n",
       "      <th>VIVIENDA_PARTICULAR</th>\n",
       "      <th>VIVIENDA_COLECTIVA</th>\n",
       "      <th>VPOMP</th>\n",
       "      <th>TOTAL_VIVIENDAS</th>\n",
       "      <th>NOMBRE_REGION</th>\n",
       "      <th>NOM_PROVINCIA</th>\n",
       "      <th>NOM_COMUNA</th>\n",
       "      <th>NOM_AREA</th>\n",
       "    </tr>\n",
       "  </thead>\n",
       "  <tbody>\n",
       "    <tr>\n",
       "      <th>0</th>\n",
       "      <td>1</td>\n",
       "      <td>1</td>\n",
       "      <td>1</td>\n",
       "      <td>14</td>\n",
       "      <td>7849</td>\n",
       "      <td>1101011001014</td>\n",
       "      <td>160</td>\n",
       "      <td>69.0</td>\n",
       "      <td>91.0</td>\n",
       "      <td>18.0</td>\n",
       "      <td>...</td>\n",
       "      <td>62.0</td>\n",
       "      <td>19.0</td>\n",
       "      <td>75</td>\n",
       "      <td>0</td>\n",
       "      <td>62</td>\n",
       "      <td>75</td>\n",
       "      <td>TARAPACÁ</td>\n",
       "      <td>IQUIQUE</td>\n",
       "      <td>IQUIQUE</td>\n",
       "      <td>URBANO</td>\n",
       "    </tr>\n",
       "    <tr>\n",
       "      <th>1</th>\n",
       "      <td>1</td>\n",
       "      <td>1</td>\n",
       "      <td>1</td>\n",
       "      <td>16</td>\n",
       "      <td>7849</td>\n",
       "      <td>1101011001016</td>\n",
       "      <td>456</td>\n",
       "      <td>223.0</td>\n",
       "      <td>233.0</td>\n",
       "      <td>39.0</td>\n",
       "      <td>...</td>\n",
       "      <td>40.0</td>\n",
       "      <td>77.0</td>\n",
       "      <td>213</td>\n",
       "      <td>0</td>\n",
       "      <td>163</td>\n",
       "      <td>213</td>\n",
       "      <td>TARAPACÁ</td>\n",
       "      <td>IQUIQUE</td>\n",
       "      <td>IQUIQUE</td>\n",
       "      <td>URBANO</td>\n",
       "    </tr>\n",
       "    <tr>\n",
       "      <th>2</th>\n",
       "      <td>1</td>\n",
       "      <td>1</td>\n",
       "      <td>1</td>\n",
       "      <td>17</td>\n",
       "      <td>7849</td>\n",
       "      <td>1101011001017</td>\n",
       "      <td>203</td>\n",
       "      <td>111.0</td>\n",
       "      <td>92.0</td>\n",
       "      <td>18.0</td>\n",
       "      <td>...</td>\n",
       "      <td>53.0</td>\n",
       "      <td>49.0</td>\n",
       "      <td>100</td>\n",
       "      <td>1</td>\n",
       "      <td>80</td>\n",
       "      <td>101</td>\n",
       "      <td>TARAPACÁ</td>\n",
       "      <td>IQUIQUE</td>\n",
       "      <td>IQUIQUE</td>\n",
       "      <td>URBANO</td>\n",
       "    </tr>\n",
       "    <tr>\n",
       "      <th>3</th>\n",
       "      <td>1</td>\n",
       "      <td>1</td>\n",
       "      <td>1</td>\n",
       "      <td>18</td>\n",
       "      <td>7849</td>\n",
       "      <td>1101011001018</td>\n",
       "      <td>132</td>\n",
       "      <td>68.0</td>\n",
       "      <td>64.0</td>\n",
       "      <td>8.0</td>\n",
       "      <td>...</td>\n",
       "      <td>30.0</td>\n",
       "      <td>23.0</td>\n",
       "      <td>72</td>\n",
       "      <td>0</td>\n",
       "      <td>43</td>\n",
       "      <td>72</td>\n",
       "      <td>TARAPACÁ</td>\n",
       "      <td>IQUIQUE</td>\n",
       "      <td>IQUIQUE</td>\n",
       "      <td>URBANO</td>\n",
       "    </tr>\n",
       "    <tr>\n",
       "      <th>4</th>\n",
       "      <td>1</td>\n",
       "      <td>1</td>\n",
       "      <td>1</td>\n",
       "      <td>20</td>\n",
       "      <td>7849</td>\n",
       "      <td>1101011001020</td>\n",
       "      <td>54</td>\n",
       "      <td>31.0</td>\n",
       "      <td>23.0</td>\n",
       "      <td>8.0</td>\n",
       "      <td>...</td>\n",
       "      <td>8.0</td>\n",
       "      <td>12.0</td>\n",
       "      <td>23</td>\n",
       "      <td>0</td>\n",
       "      <td>13</td>\n",
       "      <td>23</td>\n",
       "      <td>TARAPACÁ</td>\n",
       "      <td>IQUIQUE</td>\n",
       "      <td>IQUIQUE</td>\n",
       "      <td>URBANO</td>\n",
       "    </tr>\n",
       "  </tbody>\n",
       "</table>\n",
       "<p>5 rows × 23 columns</p>\n",
       "</div>"
      ],
      "text/plain": [
       "   AREA  DC  ZONA_LOCALIDAD  MANZANA_ENTIDAD  ID_ZONA_LOCALIDAD  \\\n",
       "0     1   1               1               14               7849   \n",
       "1     1   1               1               16               7849   \n",
       "2     1   1               1               17               7849   \n",
       "3     1   1               1               18               7849   \n",
       "4     1   1               1               20               7849   \n",
       "\n",
       "   ID_MANZANA_ENTIDAD  PERSONAS_CENSADAS  HOMBRES  MUJERES  EDAD_0A5   ...     \\\n",
       "0       1101011001014                160     69.0     91.0      18.0   ...      \n",
       "1       1101011001016                456    223.0    233.0      39.0   ...      \n",
       "2       1101011001017                203    111.0     92.0      18.0   ...      \n",
       "3       1101011001018                132     68.0     64.0       8.0   ...      \n",
       "4       1101011001020                 54     31.0     23.0       8.0   ...      \n",
       "\n",
       "   INMIGRANTES  PUEBLO_INDIGENA  VIVIENDA_PARTICULAR  VIVIENDA_COLECTIVA  \\\n",
       "0         62.0             19.0                   75                   0   \n",
       "1         40.0             77.0                  213                   0   \n",
       "2         53.0             49.0                  100                   1   \n",
       "3         30.0             23.0                   72                   0   \n",
       "4          8.0             12.0                   23                   0   \n",
       "\n",
       "   VPOMP  TOTAL_VIVIENDAS  NOMBRE_REGION  NOM_PROVINCIA  NOM_COMUNA NOM_AREA  \n",
       "0     62               75       TARAPACÁ        IQUIQUE     IQUIQUE   URBANO  \n",
       "1    163              213       TARAPACÁ        IQUIQUE     IQUIQUE   URBANO  \n",
       "2     80              101       TARAPACÁ        IQUIQUE     IQUIQUE   URBANO  \n",
       "3     43               72       TARAPACÁ        IQUIQUE     IQUIQUE   URBANO  \n",
       "4     13               23       TARAPACÁ        IQUIQUE     IQUIQUE   URBANO  \n",
       "\n",
       "[5 rows x 23 columns]"
      ]
     },
     "execution_count": 50,
     "metadata": {},
     "output_type": "execute_result"
    }
   ],
   "source": [
    "df.na.drop().toPandas().head()"
   ]
  },
  {
   "cell_type": "markdown",
   "metadata": {},
   "source": [
    "### Select columns:"
   ]
  },
  {
   "cell_type": "code",
   "execution_count": 18,
   "metadata": {},
   "outputs": [
    {
     "name": "stdout",
     "output_type": "stream",
     "text": [
      "+-------------+\n",
      "|NOM_PROVINCIA|\n",
      "+-------------+\n",
      "|      IQUIQUE|\n",
      "|    TAMARUGAL|\n",
      "|  ANTOFAGASTA|\n",
      "|       EL LOA|\n",
      "|    TOCOPILLA|\n",
      "+-------------+\n",
      "only showing top 5 rows\n",
      "\n"
     ]
    }
   ],
   "source": [
    "df.select('NOM_PROVINCIA').show(5)"
   ]
  },
  {
   "cell_type": "code",
   "execution_count": 19,
   "metadata": {},
   "outputs": [
    {
     "name": "stdout",
     "output_type": "stream",
     "text": [
      "+---------+\n",
      "|PROVINCIA|\n",
      "+---------+\n",
      "|       54|\n",
      "|      112|\n",
      "|      113|\n",
      "|       22|\n",
      "|      136|\n",
      "+---------+\n",
      "only showing top 5 rows\n",
      "\n"
     ]
    },
    {
     "data": {
      "text/plain": [
       "(54, None)"
      ]
     },
     "execution_count": 19,
     "metadata": {},
     "output_type": "execute_result"
    }
   ],
   "source": [
    "df.select('PROVINCIA').distinct().count(),df.select('PROVINCIA').distinct().show(5)"
   ]
  },
  {
   "cell_type": "markdown",
   "metadata": {},
   "source": [
    "#### Sort columns:"
   ]
  },
  {
   "cell_type": "code",
   "execution_count": 20,
   "metadata": {},
   "outputs": [
    {
     "name": "stdout",
     "output_type": "stream",
     "text": [
      "+---------+-------------+\n",
      "|PROVINCIA|NOM_PROVINCIA|\n",
      "+---------+-------------+\n",
      "|      152|   PARINACOTA|\n",
      "|      151|        ARICA|\n",
      "|      142|        RANCO|\n",
      "|      141|     VALDIVIA|\n",
      "|      136|    TALAGANTE|\n",
      "+---------+-------------+\n",
      "only showing top 5 rows\n",
      "\n"
     ]
    }
   ],
   "source": [
    "df.orderBy('PROVINCIA', ascending=False).show(5)"
   ]
  },
  {
   "cell_type": "code",
   "execution_count": 21,
   "metadata": {},
   "outputs": [
    {
     "name": "stdout",
     "output_type": "stream",
     "text": [
      "+---------+-------------+\n",
      "|PROVINCIA|NOM_PROVINCIA|\n",
      "+---------+-------------+\n",
      "|      152|   PARINACOTA|\n",
      "|      151|        ARICA|\n",
      "|      142|        RANCO|\n",
      "|      141|     VALDIVIA|\n",
      "|      136|    TALAGANTE|\n",
      "+---------+-------------+\n",
      "only showing top 5 rows\n",
      "\n"
     ]
    }
   ],
   "source": [
    "# Same command.\n",
    "df.orderBy(df['PROVINCIA'].desc()).show(5)"
   ]
  },
  {
   "cell_type": "markdown",
   "metadata": {},
   "source": [
    "#### Add columns:"
   ]
  },
  {
   "cell_type": "code",
   "execution_count": 22,
   "metadata": {},
   "outputs": [
    {
     "name": "stdout",
     "output_type": "stream",
     "text": [
      "+---------+-------------+-------------+\n",
      "|PROVINCIA|NOM_PROVINCIA|NEW_PROVINCIA|\n",
      "+---------+-------------+-------------+\n",
      "|       11|      IQUIQUE|          5.5|\n",
      "|       14|    TAMARUGAL|          7.0|\n",
      "|       21|  ANTOFAGASTA|         10.5|\n",
      "|       22|       EL LOA|         11.0|\n",
      "|       23|    TOCOPILLA|         11.5|\n",
      "+---------+-------------+-------------+\n",
      "only showing top 5 rows\n",
      "\n"
     ]
    }
   ],
   "source": [
    "df.withColumn('NEW_PROVINCIA', df['PROVINCIA']/2).show(5)"
   ]
  },
  {
   "cell_type": "code",
   "execution_count": 23,
   "metadata": {},
   "outputs": [
    {
     "name": "stdout",
     "output_type": "stream",
     "text": [
      "+---------+-------------+\n",
      "|PROVINCIA|NOM_PROVINCIA|\n",
      "+---------+-------------+\n",
      "|       11|      IQUIQUE|\n",
      "|       14|    TAMARUGAL|\n",
      "|       21|  ANTOFAGASTA|\n",
      "|       22|       EL LOA|\n",
      "|       23|    TOCOPILLA|\n",
      "+---------+-------------+\n",
      "only showing top 5 rows\n",
      "\n"
     ]
    }
   ],
   "source": [
    "df.show(5)"
   ]
  },
  {
   "cell_type": "markdown",
   "metadata": {},
   "source": [
    "#### Drop columns:"
   ]
  },
  {
   "cell_type": "code",
   "execution_count": 24,
   "metadata": {},
   "outputs": [
    {
     "name": "stdout",
     "output_type": "stream",
     "text": [
      "+-------------+\n",
      "|NOM_PROVINCIA|\n",
      "+-------------+\n",
      "|      IQUIQUE|\n",
      "|    TAMARUGAL|\n",
      "|  ANTOFAGASTA|\n",
      "|       EL LOA|\n",
      "|    TOCOPILLA|\n",
      "+-------------+\n",
      "only showing top 5 rows\n",
      "\n"
     ]
    }
   ],
   "source": [
    "df.drop('PROVINCIA').show(5)"
   ]
  },
  {
   "cell_type": "code",
   "execution_count": 25,
   "metadata": {},
   "outputs": [
    {
     "name": "stdout",
     "output_type": "stream",
     "text": [
      "+---------+-------------+\n",
      "|PROVINCIA|NOM_PROVINCIA|\n",
      "+---------+-------------+\n",
      "|       11|      IQUIQUE|\n",
      "|       14|    TAMARUGAL|\n",
      "|       21|  ANTOFAGASTA|\n",
      "|       22|       EL LOA|\n",
      "|       23|    TOCOPILLA|\n",
      "+---------+-------------+\n",
      "only showing top 5 rows\n",
      "\n"
     ]
    }
   ],
   "source": [
    "df.show(5)"
   ]
  },
  {
   "cell_type": "markdown",
   "metadata": {},
   "source": [
    "### Data checking:"
   ]
  },
  {
   "cell_type": "code",
   "execution_count": null,
   "metadata": {
    "collapsed": true
   },
   "outputs": [],
   "source": [
    "#Let us check what are the categories for Product_ID, which are in test file but not in train file by applying subtract\n",
    "\n",
    "#test.select('Product_ID').subtract(train.select('Product_ID'))"
   ]
  },
  {
   "cell_type": "code",
   "execution_count": 28,
   "metadata": {
    "collapsed": true
   },
   "outputs": [],
   "source": [
    "# train.crosstab('Age', 'Gender').show()"
   ]
  },
  {
   "cell_type": "markdown",
   "metadata": {},
   "source": [
    "#### Drop duplicates:"
   ]
  },
  {
   "cell_type": "code",
   "execution_count": null,
   "metadata": {
    "collapsed": true
   },
   "outputs": [],
   "source": [
    "# train.select('Age','Gender').dropDuplicates().show()"
   ]
  },
  {
   "cell_type": "markdown",
   "metadata": {},
   "source": [
    "#### drop NaN:"
   ]
  },
  {
   "cell_type": "markdown",
   "metadata": {},
   "source": [
    "how– ‘any’ or ‘all’. If ‘any’, drop a row if it contains any nulls. If ‘all’, drop a row only if all its values are null.\n",
    "\n",
    "thresh – int, default None If specified, drop rows that have less than thresh non-null values. This overwrites the how parameter.\n",
    "\n",
    "subset – optional list of column names to consider."
   ]
  },
  {
   "cell_type": "code",
   "execution_count": 26,
   "metadata": {},
   "outputs": [
    {
     "data": {
      "text/plain": [
       "54"
      ]
     },
     "execution_count": 26,
     "metadata": {},
     "output_type": "execute_result"
    }
   ],
   "source": [
    "df.dropna().count()"
   ]
  },
  {
   "cell_type": "markdown",
   "metadata": {},
   "source": [
    "#### fill NaN:"
   ]
  },
  {
   "cell_type": "code",
   "execution_count": 27,
   "metadata": {},
   "outputs": [
    {
     "data": {
      "text/plain": [
       "DataFrame[PROVINCIA: bigint, NOM_PROVINCIA: string]"
      ]
     },
     "execution_count": 27,
     "metadata": {},
     "output_type": "execute_result"
    }
   ],
   "source": [
    "df.fillna(0) #We will fill NaNs with 0."
   ]
  },
  {
   "cell_type": "markdown",
   "metadata": {},
   "source": [
    "### Filter rows:"
   ]
  },
  {
   "cell_type": "code",
   "execution_count": 28,
   "metadata": {},
   "outputs": [
    {
     "data": {
      "text/plain": [
       "43"
      ]
     },
     "execution_count": 28,
     "metadata": {},
     "output_type": "execute_result"
    }
   ],
   "source": [
    "df.filter(df['PROVINCIA']>50).count()"
   ]
  },
  {
   "cell_type": "markdown",
   "metadata": {},
   "source": [
    "### Group By:"
   ]
  },
  {
   "cell_type": "code",
   "execution_count": 84,
   "metadata": {},
   "outputs": [
    {
     "name": "stdout",
     "output_type": "stream",
     "text": [
      "+----------------+--------------+\n",
      "|   NOM_PROVINCIA|sum(PROVINCIA)|\n",
      "+----------------+--------------+\n",
      "|       TOCOPILLA|            23|\n",
      "|ÚLTIMA ESPERANZA|           124|\n",
      "|          LIMARÍ|            43|\n",
      "|      PARINACOTA|           152|\n",
      "|         MALLECO|            92|\n",
      "+----------------+--------------+\n",
      "only showing top 5 rows\n",
      "\n"
     ]
    }
   ],
   "source": [
    "df.groupBy('NOM_PROVINCIA').sum().show(5)\n",
    "\n",
    "# df.groupBy('NOM_PROVINCIA').agg({'COLUMNA':'operacion'}).show()"
   ]
  },
  {
   "cell_type": "markdown",
   "metadata": {},
   "source": [
    "###  Sorting:"
   ]
  },
  {
   "cell_type": "code",
   "execution_count": 83,
   "metadata": {},
   "outputs": [
    {
     "name": "stdout",
     "output_type": "stream",
     "text": [
      "+---------+-------------+\n",
      "|PROVINCIA|NOM_PROVINCIA|\n",
      "+---------+-------------+\n",
      "|      152|   PARINACOTA|\n",
      "|      151|        ARICA|\n",
      "|      142|        RANCO|\n",
      "|      141|     VALDIVIA|\n",
      "|      136|    TALAGANTE|\n",
      "+---------+-------------+\n",
      "only showing top 5 rows\n",
      "\n"
     ]
    }
   ],
   "source": [
    "df.sort('PROVINCIA', ascending=False).show(5)"
   ]
  },
  {
   "cell_type": "markdown",
   "metadata": {},
   "source": [
    "### Map operations (& Convert DF into RDD):"
   ]
  },
  {
   "cell_type": "code",
   "execution_count": 30,
   "metadata": {
    "collapsed": true
   },
   "outputs": [],
   "source": [
    "# We can apply a function on each row of DataFrame using map operation. \n",
    "# After applying this function, we get the result in the form of RDD."
   ]
  },
  {
   "cell_type": "code",
   "execution_count": 31,
   "metadata": {},
   "outputs": [
    {
     "data": {
      "text/plain": [
       "[(Row(PROVINCIA=11), 1), (Row(PROVINCIA=14), 1), (Row(PROVINCIA=21), 1)]"
      ]
     },
     "execution_count": 31,
     "metadata": {},
     "output_type": "execute_result"
    }
   ],
   "source": [
    "# df.select('PROVINCIA').rdd allows the dataframe to used RDD methods\n",
    "# To tranform a df into a RDD:\n",
    "#   rdd = df.rdd.map(list)\n",
    "\n",
    "df.select('PROVINCIA').rdd.map(lambda x:(x,1)).take(3)"
   ]
  },
  {
   "cell_type": "code",
   "execution_count": 32,
   "metadata": {},
   "outputs": [
    {
     "name": "stdout",
     "output_type": "stream",
     "text": [
      "+--------------------+\n",
      "|       NOM_PROVINCIA|\n",
      "+--------------------+\n",
      "|             IQUIQUE|\n",
      "|           TAMARUGAL|\n",
      "|         ANTOFAGASTA|\n",
      "|              EL LOA|\n",
      "|           TOCOPILLA|\n",
      "|             COPIAPÓ|\n",
      "|            CHAÑARAL|\n",
      "|              HUASCO|\n",
      "|               ELQUI|\n",
      "|              CHOAPA|\n",
      "|              LIMARÍ|\n",
      "|          VALPARAÍSO|\n",
      "|      ISLA DE PASCUA|\n",
      "|           LOS ANDES|\n",
      "|             PETORCA|\n",
      "|            QUILLOTA|\n",
      "|         SAN ANTONIO|\n",
      "|SAN FELIPE DE ACO...|\n",
      "|         MARGA MARGA|\n",
      "|           CACHAPOAL|\n",
      "+--------------------+\n",
      "only showing top 20 rows\n",
      "\n"
     ]
    }
   ],
   "source": [
    "df.select('NOM_PROVINCIA').show()"
   ]
  },
  {
   "cell_type": "markdown",
   "metadata": {},
   "source": [
    "### User defined function (udf)"
   ]
  },
  {
   "cell_type": "code",
   "execution_count": 33,
   "metadata": {
    "collapsed": true
   },
   "outputs": [],
   "source": [
    "from pyspark.sql.types import StringType\n",
    "from pyspark.sql.functions import udf"
   ]
  },
  {
   "cell_type": "markdown",
   "metadata": {},
   "source": [
    "We need to import StringType from the pyspark.sql and udf from the pyspark.sql.functions. The udf function takes 2 parameters as arguments:\n",
    "\n",
    "- Function (I am using lambda function)\n",
    "- Return type (in my case StringType())"
   ]
  },
  {
   "cell_type": "code",
   "execution_count": 36,
   "metadata": {
    "collapsed": true
   },
   "outputs": [],
   "source": [
    "function = udf(lambda x: x+' lol', StringType())"
   ]
  },
  {
   "cell_type": "code",
   "execution_count": 37,
   "metadata": {},
   "outputs": [
    {
     "name": "stdout",
     "output_type": "stream",
     "text": [
      "+---------+--------------------+--------------------+\n",
      "|PROVINCIA|       NOM_PROVINCIA|            NEW_NAME|\n",
      "+---------+--------------------+--------------------+\n",
      "|       11|             IQUIQUE|         IQUIQUE lol|\n",
      "|       14|           TAMARUGAL|       TAMARUGAL lol|\n",
      "|       21|         ANTOFAGASTA|     ANTOFAGASTA lol|\n",
      "|       22|              EL LOA|          EL LOA lol|\n",
      "|       23|           TOCOPILLA|       TOCOPILLA lol|\n",
      "|       31|             COPIAPÓ|         COPIAPÓ lol|\n",
      "|       32|            CHAÑARAL|        CHAÑARAL lol|\n",
      "|       33|              HUASCO|          HUASCO lol|\n",
      "|       41|               ELQUI|           ELQUI lol|\n",
      "|       42|              CHOAPA|          CHOAPA lol|\n",
      "|       43|              LIMARÍ|          LIMARÍ lol|\n",
      "|       51|          VALPARAÍSO|      VALPARAÍSO lol|\n",
      "|       52|      ISLA DE PASCUA|  ISLA DE PASCUA lol|\n",
      "|       53|           LOS ANDES|       LOS ANDES lol|\n",
      "|       54|             PETORCA|         PETORCA lol|\n",
      "|       55|            QUILLOTA|        QUILLOTA lol|\n",
      "|       56|         SAN ANTONIO|     SAN ANTONIO lol|\n",
      "|       57|SAN FELIPE DE ACO...|SAN FELIPE DE ACO...|\n",
      "|       58|         MARGA MARGA|     MARGA MARGA lol|\n",
      "|       61|           CACHAPOAL|       CACHAPOAL lol|\n",
      "+---------+--------------------+--------------------+\n",
      "only showing top 20 rows\n",
      "\n"
     ]
    }
   ],
   "source": [
    "df.withColumn('NEW_NAME', function(df['NOM_PROVINCIA'])).show()"
   ]
  },
  {
   "cell_type": "markdown",
   "metadata": {},
   "source": [
    "### Apply SQL Queries:"
   ]
  },
  {
   "cell_type": "markdown",
   "metadata": {},
   "source": [
    " To apply SQL queries on DataFrame first we need to register DataFrame as table"
   ]
  },
  {
   "cell_type": "code",
   "execution_count": 39,
   "metadata": {
    "collapsed": true
   },
   "outputs": [],
   "source": [
    "df.registerTempTable('df_table')"
   ]
  },
  {
   "cell_type": "markdown",
   "metadata": {},
   "source": [
    "The result of SQL query will be a DataFrame"
   ]
  },
  {
   "cell_type": "code",
   "execution_count": 45,
   "metadata": {},
   "outputs": [
    {
     "name": "stdout",
     "output_type": "stream",
     "text": [
      "+---------+--------------+\n",
      "|PROVINCIA| NOM_PROVINCIA|\n",
      "+---------+--------------+\n",
      "|       51|    VALPARAÍSO|\n",
      "|       52|ISLA DE PASCUA|\n",
      "|       53|     LOS ANDES|\n",
      "|       54|       PETORCA|\n",
      "|       55|      QUILLOTA|\n",
      "+---------+--------------+\n",
      "only showing top 5 rows\n",
      "\n"
     ]
    }
   ],
   "source": [
    "sqlContext.sql('select * from df_table where PROVINCIA > 50').show(5)"
   ]
  },
  {
   "cell_type": "code",
   "execution_count": 53,
   "metadata": {},
   "outputs": [
    {
     "name": "stdout",
     "output_type": "stream",
     "text": [
      "+---------+-------------+\n",
      "|PROVINCIA|NOM_PROVINCIA|\n",
      "+---------+-------------+\n",
      "|      152|   PARINACOTA|\n",
      "|      151|        ARICA|\n",
      "|      142|        RANCO|\n",
      "|      141|     VALDIVIA|\n",
      "|      136|    TALAGANTE|\n",
      "+---------+-------------+\n",
      "only showing top 5 rows\n",
      "\n"
     ]
    }
   ],
   "source": [
    "sqlContext.sql('select * from df_table order by PROVINCIA desc').show(5)"
   ]
  },
  {
   "cell_type": "markdown",
   "metadata": {},
   "source": [
    "### Saving files"
   ]
  },
  {
   "cell_type": "markdown",
   "metadata": {},
   "source": [
    "#### To CSV:"
   ]
  },
  {
   "cell_type": "markdown",
   "metadata": {},
   "source": [
    "#### To HDFS:"
   ]
  },
  {
   "cell_type": "markdown",
   "metadata": {},
   "source": [
    "#### As Hive table:"
   ]
  },
  {
   "cell_type": "markdown",
   "metadata": {},
   "source": [
    "### Test:"
   ]
  },
  {
   "cell_type": "code",
   "execution_count": 57,
   "metadata": {},
   "outputs": [
    {
     "name": "stdout",
     "output_type": "stream",
     "text": [
      "+---------+-------------+\n",
      "|PROVINCIA|NOM_PROVINCIA|\n",
      "+---------+-------------+\n",
      "|       11|      IQUIQUE|\n",
      "|       14|    TAMARUGAL|\n",
      "|       21|  ANTOFAGASTA|\n",
      "|       22|       EL LOA|\n",
      "|       23|    TOCOPILLA|\n",
      "+---------+-------------+\n",
      "only showing top 5 rows\n",
      "\n"
     ]
    }
   ],
   "source": [
    "df.show(5)"
   ]
  },
  {
   "cell_type": "markdown",
   "metadata": {},
   "source": [
    "#### Get an element:"
   ]
  },
  {
   "cell_type": "code",
   "execution_count": 77,
   "metadata": {},
   "outputs": [
    {
     "data": {
      "text/plain": [
       "'TAMARUGAL'"
      ]
     },
     "execution_count": 77,
     "metadata": {},
     "output_type": "execute_result"
    }
   ],
   "source": [
    "df.collect()[1][1]"
   ]
  },
  {
   "cell_type": "code",
   "execution_count": 75,
   "metadata": {},
   "outputs": [
    {
     "name": "stdout",
     "output_type": "stream",
     "text": [
      "+---------+\n",
      "|PROVINCIA|\n",
      "+---------+\n",
      "|       11|\n",
      "|       14|\n",
      "|       21|\n",
      "|       22|\n",
      "|       23|\n",
      "|       31|\n",
      "|       32|\n",
      "|       33|\n",
      "|       41|\n",
      "|       42|\n",
      "|       43|\n",
      "|       51|\n",
      "|       52|\n",
      "|       53|\n",
      "|       54|\n",
      "|       55|\n",
      "|       56|\n",
      "|       57|\n",
      "|       58|\n",
      "|       61|\n",
      "+---------+\n",
      "only showing top 20 rows\n",
      "\n"
     ]
    }
   ],
   "source": [
    "df.select('PROVINCIA').show()"
   ]
  },
  {
   "cell_type": "code",
   "execution_count": 81,
   "metadata": {},
   "outputs": [
    {
     "data": {
      "text/plain": [
       "Row(NOM_PROVINCIA='ANTOFAGASTA')"
      ]
     },
     "execution_count": 81,
     "metadata": {},
     "output_type": "execute_result"
    }
   ],
   "source": [
    "df.select(df.columns[1:2]).collect()[2]"
   ]
  },
  {
   "cell_type": "code",
   "execution_count": 69,
   "metadata": {
    "collapsed": true
   },
   "outputs": [],
   "source": [
    "rdd = df.rdd.map(list)"
   ]
  },
  {
   "cell_type": "code",
   "execution_count": 93,
   "metadata": {},
   "outputs": [
    {
     "data": {
      "text/plain": [
       "[[11, 'IQUIQUE'],\n",
       " [14, 'TAMARUGAL'],\n",
       " [21, 'ANTOFAGASTA'],\n",
       " [22, 'EL LOA'],\n",
       " [23, 'TOCOPILLA'],\n",
       " [31, 'COPIAPÓ'],\n",
       " [32, 'CHAÑARAL'],\n",
       " [33, 'HUASCO'],\n",
       " [41, 'ELQUI'],\n",
       " [42, 'CHOAPA'],\n",
       " [43, 'LIMARÍ'],\n",
       " [51, 'VALPARAÍSO'],\n",
       " [52, 'ISLA DE PASCUA'],\n",
       " [53, 'LOS ANDES'],\n",
       " [54, 'PETORCA'],\n",
       " [55, 'QUILLOTA'],\n",
       " [56, 'SAN ANTONIO'],\n",
       " [57, 'SAN FELIPE DE ACONCAGUA'],\n",
       " [58, 'MARGA MARGA'],\n",
       " [61, 'CACHAPOAL'],\n",
       " [62, 'CARDENAL CARO'],\n",
       " [63, 'COLCHAGUA'],\n",
       " [71, 'TALCA'],\n",
       " [72, 'CAUQUENES'],\n",
       " [73, 'CURICÓ'],\n",
       " [74, 'LINARES'],\n",
       " [81, 'CONCEPCIÓN'],\n",
       " [82, 'ARAUCO'],\n",
       " [83, 'BIOBÍO'],\n",
       " [84, 'ÑUBLE'],\n",
       " [91, 'CAUTÍN'],\n",
       " [92, 'MALLECO'],\n",
       " [101, 'LLANQUIHUE'],\n",
       " [102, 'CHILOÉ'],\n",
       " [103, 'OSORNO'],\n",
       " [104, 'PALENA'],\n",
       " [111, 'COYHAIQUE'],\n",
       " [112, 'AYSÉN'],\n",
       " [113, 'CAPITÁN PRAT'],\n",
       " [114, 'GENERAL CARRERA'],\n",
       " [121, 'MAGALLANES'],\n",
       " [122, 'ANTÁRTICA CHILENA'],\n",
       " [123, 'TIERRA DEL FUEGO'],\n",
       " [124, 'ÚLTIMA ESPERANZA'],\n",
       " [131, 'SANTIAGO'],\n",
       " [132, 'CORDILLERA'],\n",
       " [133, 'CHACABUCO'],\n",
       " [134, 'MAIPO'],\n",
       " [135, 'MELIPILLA'],\n",
       " [136, 'TALAGANTE'],\n",
       " [141, 'VALDIVIA'],\n",
       " [142, 'RANCO'],\n",
       " [151, 'ARICA'],\n",
       " [152, 'PARINACOTA']]"
      ]
     },
     "execution_count": 93,
     "metadata": {},
     "output_type": "execute_result"
    }
   ],
   "source": [
    "rdd.collect()"
   ]
  },
  {
   "cell_type": "code",
   "execution_count": 94,
   "metadata": {},
   "outputs": [
    {
     "data": {
      "text/plain": [
       "72"
      ]
     },
     "execution_count": 94,
     "metadata": {},
     "output_type": "execute_result"
    }
   ],
   "source": [
    "rdd.getNumPartitions()"
   ]
  },
  {
   "cell_type": "code",
   "execution_count": 97,
   "metadata": {
    "collapsed": true
   },
   "outputs": [],
   "source": [
    "rdd = rdd.repartition(4)"
   ]
  },
  {
   "cell_type": "code",
   "execution_count": 98,
   "metadata": {},
   "outputs": [
    {
     "data": {
      "text/plain": [
       "4"
      ]
     },
     "execution_count": 98,
     "metadata": {},
     "output_type": "execute_result"
    }
   ],
   "source": [
    "rdd.getNumPartitions()"
   ]
  }
 ],
 "metadata": {
  "kernelspec": {
   "display_name": "pySpark 2.2.1 (Python 3.6)",
   "language": "python",
   "name": "spark221_python36"
  },
  "language_info": {
   "codemirror_mode": {
    "name": "ipython",
    "version": 3
   },
   "file_extension": ".py",
   "mimetype": "text/x-python",
   "name": "python",
   "nbconvert_exporter": "python",
   "pygments_lexer": "ipython3",
   "version": "3.6.3"
  }
 },
 "nbformat": 4,
 "nbformat_minor": 2
}
